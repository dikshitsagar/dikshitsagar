{
 "cells": [
  {
   "cell_type": "code",
   "execution_count": 1,
   "metadata": {},
   "outputs": [],
   "source": [
    "from snowflake.snowpark import Session\n",
    "import pandas as pd\n",
    "from xgboost import XGBClassifier\n",
    "from sklearn.pipeline import Pipeline\n",
    "from sklearn.impute import SimpleImputer\n",
    "from sklearn.metrics import accuracy_score\n",
    "from sklearn.metrics import average_precision_score\n",
    "from sklearn.model_selection import train_test_split\n",
    "from sklearn.metrics import roc_curve, auc, recall_score, precision_score"
   ]
  },
  {
   "cell_type": "code",
   "execution_count": 2,
   "metadata": {},
   "outputs": [],
   "source": [
    "connection_parameters = {\n",
    "    \"account\": \"wkwmqzq-hb12552\",\n",
    "    \"user\": \"Dikshit\",\n",
    "    \"password\": \"Sagar@123\",\n",
    "    \"role\": \"ACCOUNTADMIN\",\n",
    "    \"warehouse\": \"COMPUTE_WH\",\n",
    "    \"database\": \"DIKSHIT\",\n",
    "    \"schema\": \"SAGAR\"\n",
    "  }\n"
   ]
  },
  {
   "cell_type": "code",
   "execution_count": 3,
   "metadata": {},
   "outputs": [
    {
     "data": {
      "text/plain": [
       "<snowflake.snowpark.session.Session at 0x1df573e8a00>"
      ]
     },
     "execution_count": 3,
     "metadata": {},
     "output_type": "execute_result"
    }
   ],
   "source": [
    "def new_sss():\n",
    "\n",
    "    new_session = Session.builder.configs(connection_parameters).create()\n",
    "    return new_session\n",
    "session = new_sss()\n",
    "session"
   ]
  },
  {
   "cell_type": "code",
   "execution_count": 105,
   "metadata": {},
   "outputs": [],
   "source": [
    "session.add_packages(['xgboost'] )"
   ]
  },
  {
   "cell_type": "code",
   "execution_count": 4,
   "metadata": {},
   "outputs": [],
   "source": [
    "df = session.sql(query= \"select * from snowflake_sample_data.TPCDS_SF100TCL.CUSTOMER where C_BIRTH_DAY = 8\")"
   ]
  },
  {
   "cell_type": "code",
   "execution_count": 5,
   "metadata": {},
   "outputs": [
    {
     "data": {
      "text/html": [
       "<div>\n",
       "<style scoped>\n",
       "    .dataframe tbody tr th:only-of-type {\n",
       "        vertical-align: middle;\n",
       "    }\n",
       "\n",
       "    .dataframe tbody tr th {\n",
       "        vertical-align: top;\n",
       "    }\n",
       "\n",
       "    .dataframe thead th {\n",
       "        text-align: right;\n",
       "    }\n",
       "</style>\n",
       "<table border=\"1\" class=\"dataframe\">\n",
       "  <thead>\n",
       "    <tr style=\"text-align: right;\">\n",
       "      <th></th>\n",
       "      <th>C_CUSTOMER_SK</th>\n",
       "      <th>C_CUSTOMER_ID</th>\n",
       "      <th>C_CURRENT_CDEMO_SK</th>\n",
       "      <th>C_CURRENT_HDEMO_SK</th>\n",
       "      <th>C_CURRENT_ADDR_SK</th>\n",
       "      <th>C_FIRST_SHIPTO_DATE_SK</th>\n",
       "      <th>C_FIRST_SALES_DATE_SK</th>\n",
       "      <th>C_SALUTATION</th>\n",
       "      <th>C_FIRST_NAME</th>\n",
       "      <th>C_LAST_NAME</th>\n",
       "      <th>C_PREFERRED_CUST_FLAG</th>\n",
       "      <th>C_BIRTH_DAY</th>\n",
       "      <th>C_BIRTH_MONTH</th>\n",
       "      <th>C_BIRTH_YEAR</th>\n",
       "      <th>C_BIRTH_COUNTRY</th>\n",
       "      <th>C_LOGIN</th>\n",
       "      <th>C_EMAIL_ADDRESS</th>\n",
       "      <th>C_LAST_REVIEW_DATE</th>\n",
       "    </tr>\n",
       "  </thead>\n",
       "  <tbody>\n",
       "    <tr>\n",
       "      <th>0</th>\n",
       "      <td>3879930</td>\n",
       "      <td>AAAAAAAAKPDDLDAA</td>\n",
       "      <td>1070725</td>\n",
       "      <td>4780</td>\n",
       "      <td>2929682</td>\n",
       "      <td>2450284</td>\n",
       "      <td>2450254</td>\n",
       "      <td>Mr.</td>\n",
       "      <td>Scott</td>\n",
       "      <td>Bernard</td>\n",
       "      <td>Y</td>\n",
       "      <td>8</td>\n",
       "      <td>11</td>\n",
       "      <td>1928</td>\n",
       "      <td>MADAGASCAR</td>\n",
       "      <td>None</td>\n",
       "      <td>Scott.Bernard@JX95DlhkDeEC.com</td>\n",
       "      <td>2452619</td>\n",
       "    </tr>\n",
       "    <tr>\n",
       "      <th>1</th>\n",
       "      <td>3879992</td>\n",
       "      <td>AAAAAAAAIDEDLDAA</td>\n",
       "      <td>1182329</td>\n",
       "      <td>5973</td>\n",
       "      <td>27569170</td>\n",
       "      <td>2451419</td>\n",
       "      <td>2451389</td>\n",
       "      <td>Sir</td>\n",
       "      <td>Darrell</td>\n",
       "      <td>Jones</td>\n",
       "      <td>Y</td>\n",
       "      <td>8</td>\n",
       "      <td>5</td>\n",
       "      <td>1979</td>\n",
       "      <td>GABON</td>\n",
       "      <td>None</td>\n",
       "      <td>Darrell.Jones@hhoIHD4fihg.com</td>\n",
       "      <td>2452576</td>\n",
       "    </tr>\n",
       "  </tbody>\n",
       "</table>\n",
       "</div>"
      ],
      "text/plain": [
       "   C_CUSTOMER_SK     C_CUSTOMER_ID  C_CURRENT_CDEMO_SK  C_CURRENT_HDEMO_SK  \\\n",
       "0        3879930  AAAAAAAAKPDDLDAA             1070725                4780   \n",
       "1        3879992  AAAAAAAAIDEDLDAA             1182329                5973   \n",
       "\n",
       "   C_CURRENT_ADDR_SK  C_FIRST_SHIPTO_DATE_SK  C_FIRST_SALES_DATE_SK  \\\n",
       "0            2929682                 2450284                2450254   \n",
       "1           27569170                 2451419                2451389   \n",
       "\n",
       "  C_SALUTATION C_FIRST_NAME C_LAST_NAME C_PREFERRED_CUST_FLAG  C_BIRTH_DAY  \\\n",
       "0          Mr.        Scott     Bernard                     Y            8   \n",
       "1          Sir      Darrell       Jones                     Y            8   \n",
       "\n",
       "   C_BIRTH_MONTH  C_BIRTH_YEAR C_BIRTH_COUNTRY C_LOGIN  \\\n",
       "0             11          1928      MADAGASCAR    None   \n",
       "1              5          1979           GABON    None   \n",
       "\n",
       "                  C_EMAIL_ADDRESS C_LAST_REVIEW_DATE  \n",
       "0  Scott.Bernard@JX95DlhkDeEC.com            2452619  \n",
       "1   Darrell.Jones@hhoIHD4fihg.com            2452576  "
      ]
     },
     "execution_count": 5,
     "metadata": {},
     "output_type": "execute_result"
    }
   ],
   "source": [
    "df.limit(2).to_pandas()"
   ]
  },
  {
   "cell_type": "code",
   "execution_count": 42,
   "metadata": {},
   "outputs": [
    {
     "name": "stdout",
     "output_type": "stream",
     "text": [
      "-----------\n",
      "|\"COUNT\"  |\n",
      "-----------\n",
      "|1        |\n",
      "-----------\n",
      "\n"
     ]
    }
   ],
   "source": [
    "new_session.sql(query= \"select count(*) as count from snowflake_sample_data.TPCDS_SF100TCL.CUSTOMER where C_CUSTOMER_ID = 'AAAAAAAAKPDDLDAA'\").show()"
   ]
  },
  {
   "cell_type": "code",
   "execution_count": 18,
   "metadata": {},
   "outputs": [
    {
     "name": "stdout",
     "output_type": "stream",
     "text": [
      "----------------------------------\n",
      "|\"C_BIRTH_COUNTRY\"  |\"COUNT(*)\"  |\n",
      "----------------------------------\n",
      "|SWITZERLAND        |456874      |\n",
      "|GEORGIA            |458212      |\n",
      "|MALI               |458500      |\n",
      "|LITHUANIA          |457885      |\n",
      "|CANADA             |458240      |\n",
      "|MALDIVES           |456754      |\n",
      "|LIBERIA            |458528      |\n",
      "|AUSTRALIA          |457319      |\n",
      "|MALAWI             |456894      |\n",
      "|SUDAN              |457109      |\n",
      "----------------------------------\n",
      "\n"
     ]
    }
   ],
   "source": [
    "new_session.sql(query= \"select distinct C_BIRTH_COUNTRY, count(*) from snowflake_sample_data.TPCDS_SF100TCL.CUSTOMER group by C_BIRTH_COUNTRY\").show()"
   ]
  },
  {
   "cell_type": "markdown",
   "metadata": {},
   "source": [
    "Customers by birth country"
   ]
  },
  {
   "cell_type": "code",
   "execution_count": 36,
   "metadata": {},
   "outputs": [],
   "source": [
    "view_name_1 = \"Cust_by_country_v\"\n",
    "view_name_2 = \"Cust_by_Year_v\"\n",
    "view_name_3 = \"Join_view\"\n",
    "database = \"DIKSHIT\"\n",
    "schema = \"SAGAR\""
   ]
  },
  {
   "cell_type": "code",
   "execution_count": 21,
   "metadata": {},
   "outputs": [
    {
     "data": {
      "text/plain": [
       "[Row(status='View CUST_BY_COUNTRY_V successfully created.')]"
      ]
     },
     "execution_count": 21,
     "metadata": {},
     "output_type": "execute_result"
    }
   ],
   "source": [
    "df2 = new_session.sql(query= \"select * from snowflake_sample_data.TPCDS_SF100TCL.CUSTOMER where C_BIRTH_COUNTRY = 'FINLAND'\")\n",
    "df2.create_or_replace_view(f\"{database}.{schema}.{view_name_1}\")"
   ]
  },
  {
   "cell_type": "markdown",
   "metadata": {},
   "source": [
    "Customers by Birth Year greater than 1950"
   ]
  },
  {
   "cell_type": "code",
   "execution_count": 24,
   "metadata": {},
   "outputs": [
    {
     "data": {
      "text/plain": [
       "[Row(status='View CUST_BY_YEAR_V successfully created.')]"
      ]
     },
     "execution_count": 24,
     "metadata": {},
     "output_type": "execute_result"
    }
   ],
   "source": [
    "df3 = new_session.sql(query= \"select * from snowflake_sample_data.TPCDS_SF100TCL.CUSTOMER where C_BIRTH_YEAR > '1950'\")\n",
    "df3.create_or_replace_view(f\"{database}.{schema}.{view_name_2}\")"
   ]
  },
  {
   "cell_type": "markdown",
   "metadata": {},
   "source": [
    "Joining and saving in a snowflak view \n"
   ]
  },
  {
   "cell_type": "code",
   "execution_count": 38,
   "metadata": {},
   "outputs": [
    {
     "data": {
      "text/plain": [
       "[Row(status='View JOIN_VIEW successfully created.')]"
      ]
     },
     "execution_count": 38,
     "metadata": {},
     "output_type": "execute_result"
    }
   ],
   "source": [
    "df4 = new_session.sql(query= \"select a.*,b.* from snowflake_sample_data.TPCDS_SF100TCL.CUSTOMER a left join snowflake_sample_data.TPCDS_SF100TCL.CUSTOMER_ADDRESS b \\\n",
    "                                 on a.C_CUSTOMER_ID = b.CA_ADDRESS_ID \")\n",
    "df4.create_or_replace_view(f\"{database}.{schema}.{view_name_3}\")\n"
   ]
  },
  {
   "cell_type": "markdown",
   "metadata": {},
   "source": [
    "Calling Snowpark Function from snowpark"
   ]
  },
  {
   "cell_type": "code",
   "execution_count": 61,
   "metadata": {},
   "outputs": [
    {
     "name": "stdout",
     "output_type": "stream",
     "text": [
      "----------------------------------\n",
      "|\"C_FIRST_NAME\"  |\"C_LAST_NAME\"  |\n",
      "----------------------------------\n",
      "|Scott           |Bernard        |\n",
      "----------------------------------\n",
      "\n"
     ]
    }
   ],
   "source": [
    "new_session.sql(query = \"select * from table(DIKSHIT.SAGAR.get_data('AAAAAAAAKPDDLDAA'))\").show()"
   ]
  },
  {
   "cell_type": "markdown",
   "metadata": {},
   "source": [
    "Writing DataFrame to Snowflake table"
   ]
  },
  {
   "cell_type": "code",
   "execution_count": 69,
   "metadata": {},
   "outputs": [],
   "source": [
    "df.write.mode('overwrite').saveAsTable('DIKSHIT.SAGAR.CUSTOMERs');"
   ]
  },
  {
   "cell_type": "code",
   "execution_count": null,
   "metadata": {},
   "outputs": [],
   "source": [
    "from snowflake.snowpark.types import IntegerType\n",
    "from snowflake.snowpark.functions import udf\n",
    "add_one = new_session.udf.register(lambda x: x+1, return_type=IntegerType(),is_permanent=True , stage_location= \"@UDF1/\",  input_types=[IntegerType()], name=\"my_udf\", replace=True)"
   ]
  },
  {
   "cell_type": "code",
   "execution_count": 78,
   "metadata": {},
   "outputs": [
    {
     "name": "stdout",
     "output_type": "stream",
     "text": [
      "------------\n",
      "|\"UDF1()\"  |\n",
      "------------\n",
      "|3.141     |\n",
      "------------\n",
      "\n"
     ]
    }
   ],
   "source": [
    "new_session.sql(\"select UDF1()\").show()"
   ]
  },
  {
   "cell_type": "code",
   "execution_count": null,
   "metadata": {},
   "outputs": [],
   "source": []
  }
 ],
 "metadata": {
  "kernelspec": {
   "display_name": "Python 3.8.0 64-bit",
   "language": "python",
   "name": "python3"
  },
  "language_info": {
   "codemirror_mode": {
    "name": "ipython",
    "version": 3
   },
   "file_extension": ".py",
   "mimetype": "text/x-python",
   "name": "python",
   "nbconvert_exporter": "python",
   "pygments_lexer": "ipython3",
   "version": "3.8.0"
  },
  "orig_nbformat": 4,
  "vscode": {
   "interpreter": {
    "hash": "97de41f0e689800d36e40b48a74ea1fa6f7573cb1a33ce00b3d8b343092f763a"
   }
  }
 },
 "nbformat": 4,
 "nbformat_minor": 2
}
